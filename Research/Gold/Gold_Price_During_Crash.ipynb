{
 "cells": [
  {
   "metadata": {},
   "cell_type": "code",
   "outputs": [],
   "execution_count": null,
   "source": [
    "# Import required libraries\n",
    "import pandas as pd\n",
    "import matplotlib.pyplot as plt\n",
    "import seaborn as sns"
   ],
   "id": "8e9ea776e213581d"
  },
  {
   "metadata": {},
   "cell_type": "code",
   "outputs": [],
   "execution_count": null,
   "source": [
    "# Load gold data\n",
    "df = pd.read_csv('gold_inr_history.csv', parse_dates=['Date'], index_col='Date')\n",
    "\n",
    "# Set seaborn style\n",
    "sns.set(style=\"whitegrid\")\n",
    "\n",
    "# Initialize plot figure\n",
    "plt.figure(figsize=(16, 8))\n",
    "\n",
    "# Plot gold prices\n",
    "sns.lineplot(data=df, x=df.index, y='Gold_INR_per_gram', label='Gold (₹ per gram)')"
   ],
   "id": "6760acec58230e0e"
  },
  {
   "metadata": {},
   "cell_type": "code",
   "outputs": [],
   "execution_count": null,
   "source": [
    "# Define crisis points\n",
    "crashes = {\n",
    "    '2008 Crash': '2008-09-15',\n",
    "    'COVID Crash': '2020-03-20',\n",
    "    '2022 Inflation': '2022-03-01'\n",
    "}\n"
   ],
   "id": "c7af1d2ba44fb0e5"
  },
  {
   "metadata": {},
   "cell_type": "markdown",
   "source": [
    "### Define Major Crisis Points\n",
    "\n",
    "In this block, we define a dictionary called `crashes` that lists key global crisis events which historically impacted gold prices significantly.\n",
    "\n",
    "- **2008 Crash:** The global financial crisis caused by the collapse of major banks, leading to a surge in gold as a safe-haven asset.\n",
    "-\n",
    "- **COVID Crash (2020):** The pandemic triggered massive market uncertainty and lockdowns, pushing investors towards gold.\n",
    "-\n",
    "- **2022 Inflation:** Global inflation spikes and geopolitical tensions (like the Russia-Ukraine conflict) again drove investors to hedge with gold.\n",
    "\n",
    "By marking these dates on the gold price plot, we can visually highlight how gold typically reacts during major economic downturns.\n"
   ],
   "id": "e54229ba1dbf7c5f"
  },
  {
   "metadata": {},
   "cell_type": "code",
   "outputs": [],
   "execution_count": null,
   "source": [
    "# Mark crisis dates\n",
    "for label, date in crashes.items():\n",
    "    price = df.loc[date, 'Gold_INR_per_gram']\n",
    "    plt.axvline(x=pd.to_datetime(date), color='red', linestyle='--', alpha=0.7)\n",
    "    plt.text(pd.to_datetime(date), price*1.05, label, rotation=90, color='red')\n"
   ],
   "id": "5b1c5967c5c23fa6"
  },
  {
   "metadata": {},
   "cell_type": "code",
   "outputs": [],
   "execution_count": null,
   "source": [
    "# Final plot labels\n",
    "plt.title('Gold Price in INR per gram — Historical Performance & Crisis Highlights')\n",
    "plt.xlabel('Year')\n",
    "plt.ylabel('Price (₹ per gram)')\n",
    "plt.legend()\n",
    "plt.tight_layout()\n",
    "\n",
    "# Display the plot\n",
    "plt.show()"
   ],
   "id": "e96a56e7ea5032a1"
  },
  {
   "metadata": {},
   "cell_type": "markdown",
   "source": [
    "### Gold Graph\n",
    "\n",
    "Below is the saved output of the gold price plot with crisis highlights.\n",
    "\n",
    "![Gold Graph](Gold%20Graph.png)\n"
   ],
   "id": "eacb8ef079ded01b"
  },
  {
   "metadata": {},
   "cell_type": "markdown",
   "source": [
    "### 📌 Why Gold Performs Well During a Market Crash\n",
    "\n",
    "1️⃣ **Safe-Haven Asset**\n",
    "   - Gold has been trusted as a store of value for thousands of years.\n",
    "   - When stock markets crash, investors seek safety — gold is the classic safe-haven.\n",
    "\n",
    "2️⃣ **Hedge Against Uncertainty**\n",
    "   - Crises like financial crashes, wars, or pandemics reduce confidence in banks, currencies, and equities.\n",
    "   - Gold is tangible, globally accepted, and not tied to any single economy.\n",
    "\n",
    "3️⃣ **Weak Currency Hedge**\n",
    "   - Market crashes often weaken major currencies like the USD or INR.\n",
    "   - Since gold is priced in USD, a falling dollar often pushes gold prices higher in other currencies too.\n",
    "\n",
    "4️⃣ **Low or Negative Interest Rates**\n",
    "   - Central banks usually cut rates or increase money supply during crashes.\n",
    "   - With lower returns on bonds and deposits, gold becomes relatively more attractive because it doesn’t pay interest anyway.\n",
    "\n",
    "5️⃣ **Limited Supply & No Default Risk**\n",
    "   - Gold can’t be printed or default like companies or governments can.\n",
    "   - Its finite supply means sudden demand spikes can quickly raise its price.\n",
    "\n",
    "✅ **In short:** During market crashes, fear and capital flow into gold, which often drives prices higher while risk assets drop.\n"
   ],
   "id": "8e2a8df7e4e01a1c"
  },
  {
   "metadata": {},
   "cell_type": "markdown",
   "source": [
    "### Key Learnings\n",
    "\n",
    "This historical gold price graph with major global crisis highlights reveals several important insights:\n",
    "\n",
    "- **Safe-Haven Asset:** Gold consistently acts as a safe-haven during economic uncertainty. Each marked crisis — the 2008 financial meltdown, the COVID-19 pandemic, and the 2022 inflation spike — shows a visible surge or sustained rise in gold prices as investors seek security.\n",
    "\n",
    "- **Long-Term Uptrend:** Despite short-term volatility, the long-term trend demonstrates that gold has appreciated significantly in INR terms over the past two decades, providing a strong hedge against currency depreciation and inflation.\n",
    "\n",
    "- **Impact of Global Events:** Macroeconomic and geopolitical events have a direct and noticeable impact on gold prices. This underscores gold’s role as a global store of value reacting to worldwide shocks.\n",
    "\n",
    "- **Investor Perspective:** For individual investors, this highlights the importance of diversifying portfolios with assets like gold that typically perform well during market downturns, helping to balance risk.\n",
    "\n",
    "In summary, the graph illustrates why gold remains a critical component of conservative and diversified investment strategies, especially during times of crisis and economic uncertainty.\n"
   ],
   "id": "6eac9ec051081b9e"
  },
  {
   "metadata": {},
   "cell_type": "markdown",
   "source": [
    "### 📌 Note on Gold Price Conversion\n",
    "\n",
    "- **Gold price (`Gold_USD`)** is given in **USD per troy ounce**.\n",
    "- **1 troy ounce = 31.1035 grams** (approx. 31.1 grams).\n",
    "- The **daily USD to INR rate** (`USD_INR` column) is used for conversion.\n",
    "- The **gold price in INR per gram** is calculated as:\n",
    "\n",
    "Gold_INR_per_gram = (Gold_USD * USD_INR) / 31.1035\n",
    "\n",
    "\n",
    "- This gives the approximate value of **pure 24K gold per gram** in INR.\n",
    "\n",
    "✅ **Note:** This reflects the global spot rate converted to INR. Actual retail prices may be slightly higher due to import duty, GST, and making charges.\n"
   ],
   "id": "ed2c5a590efa1361"
  }
 ],
 "metadata": {},
 "nbformat": 4,
 "nbformat_minor": 5
}
