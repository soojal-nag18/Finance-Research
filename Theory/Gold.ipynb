{
 "cells": [
  {
   "cell_type": "code",
   "execution_count": null,
   "id": "initial_id",
   "metadata": {
    "collapsed": true
   },
   "outputs": [],
   "source": "# Research On Gold"
  },
  {
   "metadata": {},
   "cell_type": "markdown",
   "source": "What Is Gold From Financial POV?",
   "id": "d36c3f405da4ee19"
  },
  {
   "metadata": {},
   "cell_type": "markdown",
   "source": "In finance, Gold is an alternative asset class - not a productive asset class , it's like a store of value, it never takes a drastic hit in terms of value, grows at a rate slightly higher than inflation due to its scarcity, universal acceptance and that is basically how gold has historically worked. It is not a cash-generating asset. Its value purely depends on what people want to pay for it",
   "id": "484b00d9de350681"
  },
  {
   "metadata": {},
   "cell_type": "markdown",
   "source": "How Is Gold An Asset ?\n",
   "id": "4bbe813f36635a7a"
  },
  {
   "metadata": {},
   "cell_type": "markdown",
   "source": [
    "1. It holds an intrinsic value because it's limited and has been trusted as a valuable material or medium of exchange.\n",
    "\n",
    "2. You can convert it into money almost anywhere.\n",
    "\n",
    "3. It's highly liquid - it can be sold in global markets.\n",
    "\n",
    "4. Legally when one holds gold physically or financially, it is recorded on your balance sheet like a tangible asset"
   ],
   "id": "856a3d68e1d3d335"
  },
  {
   "metadata": {},
   "cell_type": "markdown",
   "source": "How does Gold Grow ?",
   "id": "a8b2b32bfd73cba2"
  },
  {
   "metadata": {},
   "cell_type": "markdown",
   "source": [
    "Gold does not grow like stocks or bonds, it's price grows up based on macro factors.\n",
    "\n",
    "Main Drivers are:\n",
    "\n",
    "1. Inflation Hedge - as normal currency loses value, gold rises.\n",
    "\n",
    "2. Market Fear - In crises, investors flee to gold for safety.\n",
    "\n",
    "3. Central Bank Reserves - Many countries hold gold as part of foreign reserves.\n",
    "\n",
    "4. Supply/Demand - Mining output vs jewellery and industrial demand.\n",
    "\n",
    "5. Currency strength - The weaker the USD is stronger the value of gold is since gold is dollar-denominated globally."
   ],
   "id": "b384cd34f8401d6c"
  },
  {
   "metadata": {},
   "cell_type": "markdown",
   "source": "Role Of Gold In Portfolio ?",
   "id": "9082309e5e5b0b5"
  },
  {
   "metadata": {},
   "cell_type": "markdown",
   "source": "Gold in portfolio helps your portfolio maintain a value, it helps to cushion the blow at time of crises, it helps to diversify portfolio, it preserves purchasing power against inflation, it's very liquid and universally accepted.",
   "id": "440390383be4888f"
  },
  {
   "metadata": {},
   "cell_type": "markdown",
   "source": "# Gold doesn’t make you richer; it helps you from falling from where you are.",
   "id": "e749bbcfec555043"
  }
 ],
 "metadata": {
  "kernelspec": {
   "display_name": "Python 3",
   "language": "python",
   "name": "python3"
  },
  "language_info": {
   "codemirror_mode": {
    "name": "ipython",
    "version": 2
   },
   "file_extension": ".py",
   "mimetype": "text/x-python",
   "name": "python",
   "nbconvert_exporter": "python",
   "pygments_lexer": "ipython2",
   "version": "2.7.6"
  }
 },
 "nbformat": 4,
 "nbformat_minor": 5
}
