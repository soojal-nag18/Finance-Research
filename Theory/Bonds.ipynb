{
 "cells": [
  {
   "cell_type": "code",
   "execution_count": null,
   "id": "initial_id",
   "metadata": {
    "collapsed": true
   },
   "outputs": [],
   "source": "# Research on Bonds"
  },
  {
   "metadata": {},
   "cell_type": "markdown",
   "source": [
    "A Bond is basically a loan. When you buy a bond one is basically lending money to be issuer, it can be company, government etc.\n",
    "In return, the issuer promises to:\n",
    "1. Pay regular interest. ( this regular interest is called **coupon**.)\n",
    "2. Repay principal amount (**face value**) when the bond matures."
   ],
   "id": "59fe21f52af41dca"
  },
  {
   "metadata": {},
   "cell_type": "markdown",
   "source": "Why are Bonds an Asset ?",
   "id": "625e5529fb455e89"
  },
  {
   "metadata": {},
   "cell_type": "markdown",
   "source": [
    " A Bond is an income-generating asset because:\n",
    " 1. It gives you a predictable interest payments (income).\n",
    "2. It has a market value - A bond can be sold before it matures.\n",
    "3. It is basically a legal contract."
   ],
   "id": "939cf1302de6ce4c"
  },
  {
   "metadata": {},
   "cell_type": "markdown",
   "source": "Core of a Bond",
   "id": "3b17b1640ef63aee"
  },
  {
   "metadata": {},
   "cell_type": "markdown",
   "source": [
    "1. Face Value - Original Amount Lent (e.g 1,000 per bond ).\n",
    "2. Coupon Rate - Annual interest rate (e.g 7% per year).\n",
    "3. Coupon Payment - Actual money you get ( Face Value x Coupon Rate ).\n",
    "4. Maturity Date - When the bond expires & principal is repaid.\n",
    "5. Issuer - Who sells the bond.\n",
    "6. Yield - Effective return"
   ],
   "id": "f7c9cd8d929ad6eb"
  },
  {
   "metadata": {},
   "cell_type": "markdown",
   "source": [
    "Advantages for Investor:\n",
    "\n",
    "1. Stable Income\n",
    "2. Lower Risk\n",
    "3. Diversification\n",
    "4. Tax Benefits on some govt bonds.\n",
    "5. Bondholders are paid first in bankruptcy."
   ],
   "id": "51d7fae1bb2ee62f"
  },
  {
   "metadata": {},
   "cell_type": "markdown",
   "source": [
    "Disadvantages for Investor:\n",
    "\n",
    "1. Lower Returns\n",
    "2. Interest Rate Risk - if rates go up , bond price falls.\n",
    "3. If issuer cant money, holder loses money.\n",
    "4. Inflation might affect it.\n",
    "5. Liquidity"
   ],
   "id": "b7eb90c04812d02b"
  },
  {
   "metadata": {},
   "cell_type": "markdown",
   "source": "Advantages for Issuer:",
   "id": "1f595ab00fdb32fe"
  },
  {
   "metadata": {},
   "cell_type": "markdown",
   "source": [
    "1. No Loss of ownership.\n",
    "2. Flexible Funding.\n",
    "3. Predictable Payments.\n",
    "4. Broader Investor Base\n",
    "5. Interest paid on bonds is usually tax-deduction for companies."
   ],
   "id": "7ad5753f1f5c35a5"
  },
  {
   "metadata": {},
   "cell_type": "markdown",
   "source": "Disadvantages for Issuer:",
   "id": "c959b80649c72683"
  },
  {
   "metadata": {},
   "cell_type": "markdown",
   "source": [
    "1. Fixed Obligation\n",
    "2. Risk of Default\n",
    "3. Increased Debt load\n",
    "4. Restrictive Covenants - some bonds come with limitations for issuer.\n",
    "5. Refinancing Risk."
   ],
   "id": "60db50a9bd69f07b"
  },
  {
   "metadata": {},
   "cell_type": "markdown",
   "source": [
    "Types of Bonds:\n",
    "\n",
    "1. Government Bonds\n",
    "2. Corporate Bonds\n",
    "3. Municipal Bonds\n",
    "4. Zero-Coupon Bonds\n",
    "5. Convertible Bonds"
   ],
   "id": "d0bf31d7223d7b84"
  },
  {
   "metadata": {},
   "cell_type": "markdown",
   "source": [
    "In Portfolio:\n",
    "\n",
    "In a portfolio stocks are bought for growth purposes, bonds are bought for stability and income, gold is bought for liquidity and safety."
   ],
   "id": "70a2753cd151dedd"
  }
 ],
 "metadata": {
  "kernelspec": {
   "display_name": "Python 3",
   "language": "python",
   "name": "python3"
  },
  "language_info": {
   "codemirror_mode": {
    "name": "ipython",
    "version": 2
   },
   "file_extension": ".py",
   "mimetype": "text/x-python",
   "name": "python",
   "nbconvert_exporter": "python",
   "pygments_lexer": "ipython2",
   "version": "2.7.6"
  }
 },
 "nbformat": 4,
 "nbformat_minor": 5
}
