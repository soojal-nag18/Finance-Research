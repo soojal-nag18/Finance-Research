{
 "cells": [
  {
   "metadata": {},
   "cell_type": "code",
   "outputs": [],
   "execution_count": null,
   "source": "# Research on Stocks",
   "id": "23cb23e358b393f3"
  },
  {
   "metadata": {},
   "cell_type": "markdown",
   "source": [
    "What Is a Stock ?\n",
    "\n",
    "A stock, also known as an equity share is a fractional ownership in a company.\n",
    "\n",
    "When you own a company's stock, you become a shareholder, which entitles  you to:\n",
    "\n",
    "1. A proportional claim on the company's assets and earnings.\n",
    "2. The right to receive dividends. (if declared)\n",
    "3. The right to vote on certain company matters (for common stock).\n",
    "\n",
    "Public companies issue stocks to raise capital from investors for growth or expansion.\n",
    "Stocks are traded on exchanges like NSE (National Stock Exchange of India), BSE (Bombay Stock Exchange), NYSE (New York Stock Exchange), NASDAQ (National Association of Securities Dealers Automated Quotations) which provides liquidity and a transparent market for price discovery."
   ],
   "id": "26d4a98f06b7ee4e"
  },
  {
   "metadata": {},
   "cell_type": "markdown",
   "source": "What Makes Stock An Asset ??\n",
   "id": "bf957f987320709a"
  },
  {
   "metadata": {},
   "cell_type": "markdown",
   "source": [
    "In finance, an asset is anything with economic value that can generate future benefits or possible returns.\n",
    "\n",
    "A stock is an asset because:\n",
    "\n",
    "1. It has value: one can sell it in a market at a price agreed upon by buyers and sellers.\n",
    "\n",
    "2. It offers **potential** future cash flow - through dividends and appreciation in value.\n",
    "\n",
    "3. It serves as collateral if credibility of stock itself is high and is sufficiently liquid.\n"
   ],
   "id": "f628824c5179ccc8"
  },
  {
   "metadata": {},
   "cell_type": "markdown",
   "source": "Why Is Stock a Double Edged Sword For Investor As Well As Company ??\n",
   "id": "d148a1603c5b1a"
  },
  {
   "metadata": {},
   "cell_type": "markdown",
   "source": [
    "For Investor:\n",
    "\n",
    "Pros:\n",
    "\n",
    "1. Potential for High Returns.\n",
    "2. Part Ownership.\n",
    "3. Liquidity (to some extent).\n",
    "\n",
    "Cons:\n",
    "\n",
    "1. Market Volatility - as stocks fluctuate daily.\n",
    "2. No Guarantee of stable return.\n",
    "3. Dilution of ownership if company issues more shares."
   ],
   "id": "56597d6a5184ceea"
  },
  {
   "metadata": {},
   "cell_type": "markdown",
   "source": [
    "For Company:\n",
    "\n",
    "Pros:\n",
    "\n",
    "1. Raises large capital without debt.\n",
    "2. No repayment Obligation.\n",
    "3. Improves Brand image (if stock credibility is high).\n",
    "\n",
    "Cons:\n",
    "\n",
    "1. Loss of control - since ownership dilutes.\n",
    "2. Pressure of short term results due to expectation of growth.\n",
    "3. Open for public scrutiny."
   ],
   "id": "ae9ef62b572dd5aa"
  },
  {
   "metadata": {},
   "cell_type": "markdown",
   "source": [
    "Types of stocks :\n",
    "\n",
    "1. Blue-Chip Stocks : Well-established, financially sound companies with history of stable returns, they are less volatile than smaller companies and are good long term investment for stability.\n",
    "\n",
    "2. Growth Stocks : Companies expected to grow their revenues and profits faster than the overall market average, they usually reinvest to expand instead of paying dividends, can be more volatile than blue-chip stocks.\n",
    "\n",
    "3. Value Stocks : Stocks which are trading at a price lower than their intrinsic or book value, they are believed to be undervalued by the market.\n",
    "\n",
    "4. Dividend Stocks : Companies that regularly share dividends to shareholders, it often appeals investors seeking steady income, may not grow rapidly, but these reward loyalty with payouts.\n",
    "\n",
    "5. Penny Stocks : Stocks that trade at very low prices they have small market capitalization,  they have low liquidity, prices are highly speculative and highly volatile."
   ],
   "id": "340baee78346e6c2"
  },
  {
   "metadata": {},
   "cell_type": "markdown",
   "source": "How Are Stock Prices Determined ?",
   "id": "188e9206725e4577"
  },
  {
   "metadata": {},
   "cell_type": "markdown",
   "source": [
    "1. Demand and Supply : if more people wanna but the stock than sell it , then the price goes up, if more people are selling than buying then it falls.\n",
    "\n",
    "2. Company's Performance : strong profits attract investors which in return yields higher deman which makes the price go up and vice versa, low debt is also an indicator, good leadership also leads to high return.\n",
    "\n",
    "3. Industry trends : if an industry is booming, companies in that industry also boom with it, a tech boom will be able to uplift majority IT companies.\n",
    "\n",
    "4. Economic Indicator : factors like low interest rates, high inflation, higher GDP can affect a companies stock growth.\n",
    "\n",
    "5. Global Events : elections, wars, can shake the stock markets, global markets like US markets can also affect indian markets, Natural Disasters etc."
   ],
   "id": "9112933c856d6212"
  },
  {
   "metadata": {},
   "cell_type": "markdown",
   "source": [
    "Key Terms:\n",
    "\n",
    "1. IPO (Initial Public Offering) : The first time a private company sells its shares to the public and gets listed on a stock exchange.\n",
    "\n",
    "2. Market Cap : The total value of a company’s outstanding shares, it's formula is **Market Cap = Share Price × Total Number of Shares**.\n",
    "\n",
    "3. EPS (Earning per Share) : The portion of a company’s profit allocated to each share. Shows profitability per share, it's formula is **EPS = Net Profit / Total Outstanding Shares**.\n",
    "\n",
    "4. P/E Ratio (Price-to-Earnings Ratio) : It shows how much investors are willing to pay for ₹1 of company earnings, it's formula is **P/E = Share Price / EPS**.\n",
    "\n",
    "5. Dividend Yield : The annual dividend paid by a company as a % of its current share price, it's formula is **Dividend Yield = (Annual Dividend per Share ÷ Current Share Price) × 100**.\n",
    "\n",
    "6.  Bull Market : A period of time when stock prices are rising or expected to rise.\n",
    "\n",
    "7. Bear Market: A period when stock prices are falling or expected to fall."
   ],
   "id": "b3cf8d9b8a19ebf5"
  }
 ],
 "metadata": {
  "kernelspec": {
   "display_name": "Python 3",
   "language": "python",
   "name": "python3"
  },
  "language_info": {
   "codemirror_mode": {
    "name": "ipython",
    "version": 2
   },
   "file_extension": ".py",
   "mimetype": "text/x-python",
   "name": "python",
   "nbconvert_exporter": "python",
   "pygments_lexer": "ipython2",
   "version": "2.7.6"
  }
 },
 "nbformat": 4,
 "nbformat_minor": 5
}
